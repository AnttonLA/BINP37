{
  "nbformat": 4,
  "nbformat_minor": 0,
  "metadata": {
    "colab": {
      "name": "logbook.ipynb",
      "provenance": [],
      "collapsed_sections": [],
      "authorship_tag": "ABX9TyNdmpWvZfcC0Hszy2055KOH",
      "include_colab_link": true
    },
    "kernelspec": {
      "name": "python3",
      "display_name": "Python 3"
    },
    "accelerator": "GPU"
  },
  "cells": [
    {
      "cell_type": "markdown",
      "metadata": {
        "id": "view-in-github",
        "colab_type": "text"
      },
      "source": [
        "<a href=\"https://colab.research.google.com/github/AnttonLA/BINP37/blob/master/logbook.ipynb\" target=\"_parent\"><img src=\"https://colab.research.google.com/assets/colab-badge.svg\" alt=\"Open In Colab\"/></a>"
      ]
    },
    {
      "cell_type": "markdown",
      "metadata": {
        "id": "vtYoNzSZWARW",
        "colab_type": "text"
      },
      "source": [
        "# 31 - 03 - 2020 (And before)\n",
        "\n",
        "**Aim:** Set up bioBERT in Colab. Make it work.\n",
        "\n",
        "**Result:** After some compatibility issues, bioBERT seems to be working. Fine-tunning was performed.\n",
        "\n",
        "**Next step:** Use bioBERT to make predictions with the fine-tuned model.\n",
        "\n",
        "I found a really useful comment on the tensorflow GitHub about installing an older version of Cuda, which is necessary for BioBERT to run: https://github.com/tensorflow/tensorflow/issues/15604#issuecomment-368286864"
      ]
    },
    {
      "cell_type": "markdown",
      "metadata": {
        "id": "glaNtIkpIFug",
        "colab_type": "text"
      },
      "source": [
        "# 02 - 04 - 2020\n",
        "\n",
        "**Aim:** Confirm that BioBERT performs prediction not only for the given datasets, but for custom datasets as well.\n",
        "\n",
        "**Result:** After a lot of struggling, we see that it can indeed use our data, but it needs some workarounds and the data needs to be *very* specifically formated.\n",
        "\n",
        "**Next step:** Format our data in the desired way so that we can perfrom prediction."
      ]
    },
    {
      "cell_type": "markdown",
      "metadata": {
        "id": "vhHWMTS0ZQvv",
        "colab_type": "text"
      },
      "source": [
        "#05 - 04 - 2020\n",
        "**Aim:** Get a 'test.tsv' file that is compatible with bioBERTs prediciton.\n",
        "\n",
        "**Result:** Managed to figure out the exact format of the dataset required for bioBERT to work properly. I wrote some preliminary scripts that make text into that format. I was able to get a rough version of the full pipeline, obtaining the Named Entities of the text.\n",
        "\n",
        "**Next step:** Perfect the pipeline. Specifically, improve on the scripts that format the data in the correct way to be used in BioBERT.\n",
        "\n",
        "On paralell with this, I completed a \"guide\" on how to set up BioBERT in Colab, as I thought it'd be usefull to others (and me) in the future. "
      ]
    },
    {
      "cell_type": "markdown",
      "metadata": {
        "id": "qaOs5oadoqMw",
        "colab_type": "text"
      },
      "source": [
        "#07 - 04 - 2020\n",
        "\n",
        "**Aim:** Transform the whole 100 paper subset to the appropriate tsv format in order for it to work in BioBERT\n",
        "\n",
        "**Result:** I fixed the script that creates the tsv. Right now it creates a working file from a single paper, and the prediction works fine in that paper.\n",
        "\n",
        "**Next Step:** Generalize the script so that it works in all 100 papers. Get the output file and transform the output to PubAnnotation format.\n",
        "\n",
        "I decided to use some extra time to watch some YouTube videos and do some reading (re-read the main paper and part of the BERN paper). It was very much worth it: I learned a lot in the last couple of days about BERT, BioBERT and NLP in general and that helped with the coding."
      ]
    },
    {
      "cell_type": "markdown",
      "metadata": {
        "id": "7Fm21g0i6JAR",
        "colab_type": "text"
      },
      "source": [
        "# 08 - 05 - 2020\n",
        "\n",
        "**Aim:** Create custom script that will generate a 'test.tsv' file of the appropriate format from the 100 paper subset, so that it can be used in BioBERT. Do prediction in BioBERT with it.\n",
        "\n",
        "**Result:** Prediction completed. Started working on a script that will transform the output file to PubAnnotation format, which proved trickier than expected.\n",
        "\n",
        "**Next Step:** Finish that last script, upload the next JSON file."
      ]
    },
    {
      "cell_type": "markdown",
      "metadata": {
        "id": "l6jMNgpGpJXx",
        "colab_type": "text"
      },
      "source": [
        ""
      ]
    },
    {
      "cell_type": "code",
      "metadata": {
        "id": "ID9HFDriZPOV",
        "colab_type": "code",
        "colab": {}
      },
      "source": [
        ""
      ],
      "execution_count": 0,
      "outputs": []
    },
    {
      "cell_type": "code",
      "metadata": {
        "id": "6E9EUc55ICbg",
        "colab_type": "code",
        "colab": {}
      },
      "source": [
        ""
      ],
      "execution_count": 0,
      "outputs": []
    }
  ]
}